{
  "nbformat": 4,
  "nbformat_minor": 0,
  "metadata": {
    "colab": {
      "name": "Image_classification_using neural_networks_with_tensor flow_part2",
      "provenance": [],
      "collapsed_sections": []
    },
    "kernelspec": {
      "name": "python3",
      "display_name": "Python 3"
    }
  },
  "cells": [
    {
      "cell_type": "markdown",
      "metadata": {
        "id": "tVzTv94NmlDc",
        "colab_type": "text"
      },
      "source": [
        "### An Example of how image classification is done:)"
      ]
    },
    {
      "cell_type": "markdown",
      "metadata": {
        "id": "2EhqZ1hfkTls",
        "colab_type": "text"
      },
      "source": [
        "![pitcure](https://drive.google.com/uc?id=1gozejCCJbJhw0GHT8WBWOghH9H19I4lh)"
      ]
    },
    {
      "cell_type": "markdown",
      "metadata": {
        "id": "Y3p8O9whSjsq",
        "colab_type": "text"
      },
      "source": [
        "# Aim is to classify MNIST dataset which consists of several handwritten digits using Neural Networks.(Part_2)"
      ]
    },
    {
      "cell_type": "code",
      "metadata": {
        "id": "9t4Ef9BApYQJ",
        "colab_type": "code",
        "colab": {}
      },
      "source": [
        "import pandas as pd\n",
        "import numpy as np\n",
        "import matplotlib.pyplot as plt\n",
        "import random\n",
        "import tensorflow as tf"
      ],
      "execution_count": 0,
      "outputs": []
    },
    {
      "cell_type": "code",
      "metadata": {
        "id": "dqRr3Ilrpqgn",
        "colab_type": "code",
        "colab": {}
      },
      "source": [
        "data_train = pd.DataFrame(pd.read_csv(\"sample_data/mnist_train_small.csv\"))"
      ],
      "execution_count": 0,
      "outputs": []
    },
    {
      "cell_type": "code",
      "metadata": {
        "id": "TtFm73WKqA3N",
        "colab_type": "code",
        "outputId": "e570ab02-003c-41f3-e254-12c82e51407b",
        "colab": {
          "base_uri": "https://localhost:8080/",
          "height": 244
        }
      },
      "source": [
        "data_train.head()     #taking a small part i.e(having a glimpse at the data)"
      ],
      "execution_count": 0,
      "outputs": [
        {
          "output_type": "execute_result",
          "data": {
            "text/html": [
              "<div>\n",
              "<style scoped>\n",
              "    .dataframe tbody tr th:only-of-type {\n",
              "        vertical-align: middle;\n",
              "    }\n",
              "\n",
              "    .dataframe tbody tr th {\n",
              "        vertical-align: top;\n",
              "    }\n",
              "\n",
              "    .dataframe thead th {\n",
              "        text-align: right;\n",
              "    }\n",
              "</style>\n",
              "<table border=\"1\" class=\"dataframe\">\n",
              "  <thead>\n",
              "    <tr style=\"text-align: right;\">\n",
              "      <th></th>\n",
              "      <th>6</th>\n",
              "      <th>0</th>\n",
              "      <th>0.1</th>\n",
              "      <th>0.2</th>\n",
              "      <th>0.3</th>\n",
              "      <th>0.4</th>\n",
              "      <th>0.5</th>\n",
              "      <th>0.6</th>\n",
              "      <th>0.7</th>\n",
              "      <th>0.8</th>\n",
              "      <th>0.9</th>\n",
              "      <th>0.10</th>\n",
              "      <th>0.11</th>\n",
              "      <th>0.12</th>\n",
              "      <th>0.13</th>\n",
              "      <th>0.14</th>\n",
              "      <th>0.15</th>\n",
              "      <th>0.16</th>\n",
              "      <th>0.17</th>\n",
              "      <th>0.18</th>\n",
              "      <th>0.19</th>\n",
              "      <th>0.20</th>\n",
              "      <th>0.21</th>\n",
              "      <th>0.22</th>\n",
              "      <th>0.23</th>\n",
              "      <th>0.24</th>\n",
              "      <th>0.25</th>\n",
              "      <th>0.26</th>\n",
              "      <th>0.27</th>\n",
              "      <th>0.28</th>\n",
              "      <th>0.29</th>\n",
              "      <th>0.30</th>\n",
              "      <th>0.31</th>\n",
              "      <th>0.32</th>\n",
              "      <th>0.33</th>\n",
              "      <th>0.34</th>\n",
              "      <th>0.35</th>\n",
              "      <th>0.36</th>\n",
              "      <th>0.37</th>\n",
              "      <th>0.38</th>\n",
              "      <th>...</th>\n",
              "      <th>0.551</th>\n",
              "      <th>0.552</th>\n",
              "      <th>0.553</th>\n",
              "      <th>0.554</th>\n",
              "      <th>0.555</th>\n",
              "      <th>0.556</th>\n",
              "      <th>0.557</th>\n",
              "      <th>0.558</th>\n",
              "      <th>0.559</th>\n",
              "      <th>0.560</th>\n",
              "      <th>0.561</th>\n",
              "      <th>0.562</th>\n",
              "      <th>0.563</th>\n",
              "      <th>0.564</th>\n",
              "      <th>0.565</th>\n",
              "      <th>0.566</th>\n",
              "      <th>0.567</th>\n",
              "      <th>0.568</th>\n",
              "      <th>0.569</th>\n",
              "      <th>0.570</th>\n",
              "      <th>0.571</th>\n",
              "      <th>0.572</th>\n",
              "      <th>0.573</th>\n",
              "      <th>0.574</th>\n",
              "      <th>0.575</th>\n",
              "      <th>0.576</th>\n",
              "      <th>0.577</th>\n",
              "      <th>0.578</th>\n",
              "      <th>0.579</th>\n",
              "      <th>0.580</th>\n",
              "      <th>0.581</th>\n",
              "      <th>0.582</th>\n",
              "      <th>0.583</th>\n",
              "      <th>0.584</th>\n",
              "      <th>0.585</th>\n",
              "      <th>0.586</th>\n",
              "      <th>0.587</th>\n",
              "      <th>0.588</th>\n",
              "      <th>0.589</th>\n",
              "      <th>0.590</th>\n",
              "    </tr>\n",
              "  </thead>\n",
              "  <tbody>\n",
              "    <tr>\n",
              "      <th>0</th>\n",
              "      <td>5</td>\n",
              "      <td>0</td>\n",
              "      <td>0</td>\n",
              "      <td>0</td>\n",
              "      <td>0</td>\n",
              "      <td>0</td>\n",
              "      <td>0</td>\n",
              "      <td>0</td>\n",
              "      <td>0</td>\n",
              "      <td>0</td>\n",
              "      <td>0</td>\n",
              "      <td>0</td>\n",
              "      <td>0</td>\n",
              "      <td>0</td>\n",
              "      <td>0</td>\n",
              "      <td>0</td>\n",
              "      <td>0</td>\n",
              "      <td>0</td>\n",
              "      <td>0</td>\n",
              "      <td>0</td>\n",
              "      <td>0</td>\n",
              "      <td>0</td>\n",
              "      <td>0</td>\n",
              "      <td>0</td>\n",
              "      <td>0</td>\n",
              "      <td>0</td>\n",
              "      <td>0</td>\n",
              "      <td>0</td>\n",
              "      <td>0</td>\n",
              "      <td>0</td>\n",
              "      <td>0</td>\n",
              "      <td>0</td>\n",
              "      <td>0</td>\n",
              "      <td>0</td>\n",
              "      <td>0</td>\n",
              "      <td>0</td>\n",
              "      <td>0</td>\n",
              "      <td>0</td>\n",
              "      <td>0</td>\n",
              "      <td>0</td>\n",
              "      <td>...</td>\n",
              "      <td>0</td>\n",
              "      <td>0</td>\n",
              "      <td>0</td>\n",
              "      <td>0</td>\n",
              "      <td>0</td>\n",
              "      <td>0</td>\n",
              "      <td>0</td>\n",
              "      <td>0</td>\n",
              "      <td>0</td>\n",
              "      <td>0</td>\n",
              "      <td>0</td>\n",
              "      <td>0</td>\n",
              "      <td>0</td>\n",
              "      <td>0</td>\n",
              "      <td>0</td>\n",
              "      <td>0</td>\n",
              "      <td>0</td>\n",
              "      <td>0</td>\n",
              "      <td>0</td>\n",
              "      <td>0</td>\n",
              "      <td>0</td>\n",
              "      <td>0</td>\n",
              "      <td>0</td>\n",
              "      <td>0</td>\n",
              "      <td>0</td>\n",
              "      <td>0</td>\n",
              "      <td>0</td>\n",
              "      <td>0</td>\n",
              "      <td>0</td>\n",
              "      <td>0</td>\n",
              "      <td>0</td>\n",
              "      <td>0</td>\n",
              "      <td>0</td>\n",
              "      <td>0</td>\n",
              "      <td>0</td>\n",
              "      <td>0</td>\n",
              "      <td>0</td>\n",
              "      <td>0</td>\n",
              "      <td>0</td>\n",
              "      <td>0</td>\n",
              "    </tr>\n",
              "    <tr>\n",
              "      <th>1</th>\n",
              "      <td>7</td>\n",
              "      <td>0</td>\n",
              "      <td>0</td>\n",
              "      <td>0</td>\n",
              "      <td>0</td>\n",
              "      <td>0</td>\n",
              "      <td>0</td>\n",
              "      <td>0</td>\n",
              "      <td>0</td>\n",
              "      <td>0</td>\n",
              "      <td>0</td>\n",
              "      <td>0</td>\n",
              "      <td>0</td>\n",
              "      <td>0</td>\n",
              "      <td>0</td>\n",
              "      <td>0</td>\n",
              "      <td>0</td>\n",
              "      <td>0</td>\n",
              "      <td>0</td>\n",
              "      <td>0</td>\n",
              "      <td>0</td>\n",
              "      <td>0</td>\n",
              "      <td>0</td>\n",
              "      <td>0</td>\n",
              "      <td>0</td>\n",
              "      <td>0</td>\n",
              "      <td>0</td>\n",
              "      <td>0</td>\n",
              "      <td>0</td>\n",
              "      <td>0</td>\n",
              "      <td>0</td>\n",
              "      <td>0</td>\n",
              "      <td>0</td>\n",
              "      <td>0</td>\n",
              "      <td>0</td>\n",
              "      <td>0</td>\n",
              "      <td>0</td>\n",
              "      <td>0</td>\n",
              "      <td>0</td>\n",
              "      <td>0</td>\n",
              "      <td>...</td>\n",
              "      <td>0</td>\n",
              "      <td>0</td>\n",
              "      <td>0</td>\n",
              "      <td>0</td>\n",
              "      <td>0</td>\n",
              "      <td>0</td>\n",
              "      <td>0</td>\n",
              "      <td>0</td>\n",
              "      <td>0</td>\n",
              "      <td>0</td>\n",
              "      <td>0</td>\n",
              "      <td>0</td>\n",
              "      <td>0</td>\n",
              "      <td>0</td>\n",
              "      <td>0</td>\n",
              "      <td>0</td>\n",
              "      <td>0</td>\n",
              "      <td>0</td>\n",
              "      <td>0</td>\n",
              "      <td>0</td>\n",
              "      <td>0</td>\n",
              "      <td>0</td>\n",
              "      <td>0</td>\n",
              "      <td>0</td>\n",
              "      <td>0</td>\n",
              "      <td>0</td>\n",
              "      <td>0</td>\n",
              "      <td>0</td>\n",
              "      <td>0</td>\n",
              "      <td>0</td>\n",
              "      <td>0</td>\n",
              "      <td>0</td>\n",
              "      <td>0</td>\n",
              "      <td>0</td>\n",
              "      <td>0</td>\n",
              "      <td>0</td>\n",
              "      <td>0</td>\n",
              "      <td>0</td>\n",
              "      <td>0</td>\n",
              "      <td>0</td>\n",
              "    </tr>\n",
              "    <tr>\n",
              "      <th>2</th>\n",
              "      <td>9</td>\n",
              "      <td>0</td>\n",
              "      <td>0</td>\n",
              "      <td>0</td>\n",
              "      <td>0</td>\n",
              "      <td>0</td>\n",
              "      <td>0</td>\n",
              "      <td>0</td>\n",
              "      <td>0</td>\n",
              "      <td>0</td>\n",
              "      <td>0</td>\n",
              "      <td>0</td>\n",
              "      <td>0</td>\n",
              "      <td>0</td>\n",
              "      <td>0</td>\n",
              "      <td>0</td>\n",
              "      <td>0</td>\n",
              "      <td>0</td>\n",
              "      <td>0</td>\n",
              "      <td>0</td>\n",
              "      <td>0</td>\n",
              "      <td>0</td>\n",
              "      <td>0</td>\n",
              "      <td>0</td>\n",
              "      <td>0</td>\n",
              "      <td>0</td>\n",
              "      <td>0</td>\n",
              "      <td>0</td>\n",
              "      <td>0</td>\n",
              "      <td>0</td>\n",
              "      <td>0</td>\n",
              "      <td>0</td>\n",
              "      <td>0</td>\n",
              "      <td>0</td>\n",
              "      <td>0</td>\n",
              "      <td>0</td>\n",
              "      <td>0</td>\n",
              "      <td>0</td>\n",
              "      <td>0</td>\n",
              "      <td>0</td>\n",
              "      <td>...</td>\n",
              "      <td>15</td>\n",
              "      <td>0</td>\n",
              "      <td>0</td>\n",
              "      <td>0</td>\n",
              "      <td>0</td>\n",
              "      <td>0</td>\n",
              "      <td>0</td>\n",
              "      <td>0</td>\n",
              "      <td>0</td>\n",
              "      <td>0</td>\n",
              "      <td>0</td>\n",
              "      <td>0</td>\n",
              "      <td>0</td>\n",
              "      <td>0</td>\n",
              "      <td>0</td>\n",
              "      <td>0</td>\n",
              "      <td>0</td>\n",
              "      <td>0</td>\n",
              "      <td>0</td>\n",
              "      <td>0</td>\n",
              "      <td>0</td>\n",
              "      <td>0</td>\n",
              "      <td>0</td>\n",
              "      <td>0</td>\n",
              "      <td>0</td>\n",
              "      <td>0</td>\n",
              "      <td>0</td>\n",
              "      <td>0</td>\n",
              "      <td>0</td>\n",
              "      <td>0</td>\n",
              "      <td>0</td>\n",
              "      <td>0</td>\n",
              "      <td>0</td>\n",
              "      <td>0</td>\n",
              "      <td>0</td>\n",
              "      <td>0</td>\n",
              "      <td>0</td>\n",
              "      <td>0</td>\n",
              "      <td>0</td>\n",
              "      <td>0</td>\n",
              "    </tr>\n",
              "    <tr>\n",
              "      <th>3</th>\n",
              "      <td>5</td>\n",
              "      <td>0</td>\n",
              "      <td>0</td>\n",
              "      <td>0</td>\n",
              "      <td>0</td>\n",
              "      <td>0</td>\n",
              "      <td>0</td>\n",
              "      <td>0</td>\n",
              "      <td>0</td>\n",
              "      <td>0</td>\n",
              "      <td>0</td>\n",
              "      <td>0</td>\n",
              "      <td>0</td>\n",
              "      <td>0</td>\n",
              "      <td>0</td>\n",
              "      <td>0</td>\n",
              "      <td>0</td>\n",
              "      <td>0</td>\n",
              "      <td>0</td>\n",
              "      <td>0</td>\n",
              "      <td>0</td>\n",
              "      <td>0</td>\n",
              "      <td>0</td>\n",
              "      <td>0</td>\n",
              "      <td>0</td>\n",
              "      <td>0</td>\n",
              "      <td>0</td>\n",
              "      <td>0</td>\n",
              "      <td>0</td>\n",
              "      <td>0</td>\n",
              "      <td>0</td>\n",
              "      <td>0</td>\n",
              "      <td>0</td>\n",
              "      <td>0</td>\n",
              "      <td>0</td>\n",
              "      <td>0</td>\n",
              "      <td>0</td>\n",
              "      <td>0</td>\n",
              "      <td>0</td>\n",
              "      <td>0</td>\n",
              "      <td>...</td>\n",
              "      <td>0</td>\n",
              "      <td>0</td>\n",
              "      <td>0</td>\n",
              "      <td>0</td>\n",
              "      <td>0</td>\n",
              "      <td>0</td>\n",
              "      <td>0</td>\n",
              "      <td>0</td>\n",
              "      <td>0</td>\n",
              "      <td>0</td>\n",
              "      <td>0</td>\n",
              "      <td>0</td>\n",
              "      <td>0</td>\n",
              "      <td>0</td>\n",
              "      <td>0</td>\n",
              "      <td>0</td>\n",
              "      <td>0</td>\n",
              "      <td>0</td>\n",
              "      <td>0</td>\n",
              "      <td>0</td>\n",
              "      <td>0</td>\n",
              "      <td>0</td>\n",
              "      <td>0</td>\n",
              "      <td>0</td>\n",
              "      <td>0</td>\n",
              "      <td>0</td>\n",
              "      <td>0</td>\n",
              "      <td>0</td>\n",
              "      <td>0</td>\n",
              "      <td>0</td>\n",
              "      <td>0</td>\n",
              "      <td>0</td>\n",
              "      <td>0</td>\n",
              "      <td>0</td>\n",
              "      <td>0</td>\n",
              "      <td>0</td>\n",
              "      <td>0</td>\n",
              "      <td>0</td>\n",
              "      <td>0</td>\n",
              "      <td>0</td>\n",
              "    </tr>\n",
              "    <tr>\n",
              "      <th>4</th>\n",
              "      <td>2</td>\n",
              "      <td>0</td>\n",
              "      <td>0</td>\n",
              "      <td>0</td>\n",
              "      <td>0</td>\n",
              "      <td>0</td>\n",
              "      <td>0</td>\n",
              "      <td>0</td>\n",
              "      <td>0</td>\n",
              "      <td>0</td>\n",
              "      <td>0</td>\n",
              "      <td>0</td>\n",
              "      <td>0</td>\n",
              "      <td>0</td>\n",
              "      <td>0</td>\n",
              "      <td>0</td>\n",
              "      <td>0</td>\n",
              "      <td>0</td>\n",
              "      <td>0</td>\n",
              "      <td>0</td>\n",
              "      <td>0</td>\n",
              "      <td>0</td>\n",
              "      <td>0</td>\n",
              "      <td>0</td>\n",
              "      <td>0</td>\n",
              "      <td>0</td>\n",
              "      <td>0</td>\n",
              "      <td>0</td>\n",
              "      <td>0</td>\n",
              "      <td>0</td>\n",
              "      <td>0</td>\n",
              "      <td>0</td>\n",
              "      <td>0</td>\n",
              "      <td>0</td>\n",
              "      <td>0</td>\n",
              "      <td>0</td>\n",
              "      <td>0</td>\n",
              "      <td>0</td>\n",
              "      <td>0</td>\n",
              "      <td>0</td>\n",
              "      <td>...</td>\n",
              "      <td>0</td>\n",
              "      <td>0</td>\n",
              "      <td>0</td>\n",
              "      <td>0</td>\n",
              "      <td>0</td>\n",
              "      <td>0</td>\n",
              "      <td>0</td>\n",
              "      <td>0</td>\n",
              "      <td>0</td>\n",
              "      <td>0</td>\n",
              "      <td>0</td>\n",
              "      <td>0</td>\n",
              "      <td>0</td>\n",
              "      <td>0</td>\n",
              "      <td>0</td>\n",
              "      <td>0</td>\n",
              "      <td>0</td>\n",
              "      <td>0</td>\n",
              "      <td>0</td>\n",
              "      <td>0</td>\n",
              "      <td>0</td>\n",
              "      <td>0</td>\n",
              "      <td>0</td>\n",
              "      <td>0</td>\n",
              "      <td>0</td>\n",
              "      <td>0</td>\n",
              "      <td>0</td>\n",
              "      <td>0</td>\n",
              "      <td>0</td>\n",
              "      <td>0</td>\n",
              "      <td>0</td>\n",
              "      <td>0</td>\n",
              "      <td>0</td>\n",
              "      <td>0</td>\n",
              "      <td>0</td>\n",
              "      <td>0</td>\n",
              "      <td>0</td>\n",
              "      <td>0</td>\n",
              "      <td>0</td>\n",
              "      <td>0</td>\n",
              "    </tr>\n",
              "  </tbody>\n",
              "</table>\n",
              "<p>5 rows × 785 columns</p>\n",
              "</div>"
            ],
            "text/plain": [
              "   6  0  0.1  0.2  0.3  0.4  ...  0.585  0.586  0.587  0.588  0.589  0.590\n",
              "0  5  0    0    0    0    0  ...      0      0      0      0      0      0\n",
              "1  7  0    0    0    0    0  ...      0      0      0      0      0      0\n",
              "2  9  0    0    0    0    0  ...      0      0      0      0      0      0\n",
              "3  5  0    0    0    0    0  ...      0      0      0      0      0      0\n",
              "4  2  0    0    0    0    0  ...      0      0      0      0      0      0\n",
              "\n",
              "[5 rows x 785 columns]"
            ]
          },
          "metadata": {
            "tags": []
          },
          "execution_count": 3
        }
      ]
    },
    {
      "cell_type": "code",
      "metadata": {
        "id": "d1HAJu0wqDE7",
        "colab_type": "code",
        "colab": {}
      },
      "source": [
        "features = data_train.drop(['6'],axis = 1).copy()"
      ],
      "execution_count": 0,
      "outputs": []
    },
    {
      "cell_type": "code",
      "metadata": {
        "id": "MO1PN2ALqdvT",
        "colab_type": "code",
        "colab": {}
      },
      "source": [
        "target = data_train['6'].copy()"
      ],
      "execution_count": 0,
      "outputs": []
    },
    {
      "cell_type": "code",
      "metadata": {
        "id": "9DpRbl6Lqyo8",
        "colab_type": "code",
        "colab": {}
      },
      "source": [
        "num_features  = 784\n",
        "X_PH = tf.placeholder(tf.float64,[None,num_features])   #Here None represents we can feed the data at later end\n",
        "Y_A = tf.placeholder(tf.float64,[None,10])"
      ],
      "execution_count": 0,
      "outputs": []
    },
    {
      "cell_type": "code",
      "metadata": {
        "id": "cqV_O1rptXcD",
        "colab_type": "code",
        "colab": {}
      },
      "source": [
        "#making variables\n",
        "M1= np.random.randn(num_features,num_features)\n",
        "M1 = tf.Variable(M1)\n",
        "C1 = random.random()\n",
        "C1 = tf.cast(C1,tf.float64)\n",
        "C1 = tf.Variable(C1)\n",
        "L1out = tf.nn.sigmoid(tf.matmul(X_PH,M1))+C1\n"
      ],
      "execution_count": 0,
      "outputs": []
    },
    {
      "cell_type": "code",
      "metadata": {
        "id": "OauI4RECvDw6",
        "colab_type": "code",
        "colab": {}
      },
      "source": [
        "M2 = np.random.randn(num_features,num_features)\n",
        "M2 = tf.Variable(M2)\n",
        "C2 = random.random()\n",
        "C2 = tf.cast(C2,tf.float64)\n",
        "L2out= tf.nn.relu(tf.matmul(L1out,M2))+C2"
      ],
      "execution_count": 0,
      "outputs": []
    },
    {
      "cell_type": "code",
      "metadata": {
        "id": "Doykvmupv5oi",
        "colab_type": "code",
        "colab": {}
      },
      "source": [
        "M3 = np.random.randn(num_features,num_features)\n",
        "M3 = tf.Variable(M3)\n",
        "C3 = random.random()\n",
        "C3 = tf.cast(C3,tf.float64)\n",
        "L3out = tf.nn.tanh(tf.matmul(L2out,M3))+C3"
      ],
      "execution_count": 0,
      "outputs": []
    },
    {
      "cell_type": "code",
      "metadata": {
        "id": "hUpjHLrTL9Hh",
        "colab_type": "code",
        "colab": {}
      },
      "source": [
        "M4 = np.random.randn(num_features,num_features)\n",
        "M4 = tf.Variable(M4)\n",
        "C4 = random.random()\n",
        "C4 = tf.cast(C4,tf.float64)\n",
        "L4out = tf.nn.relu(tf.matmul(L3out,M4))+C4"
      ],
      "execution_count": 0,
      "outputs": []
    },
    {
      "cell_type": "code",
      "metadata": {
        "id": "kuuJz5ngg6L0",
        "colab_type": "code",
        "colab": {}
      },
      "source": [
        "M5 = np.random.rand(num_features,num_features)\n",
        "M5 = tf.Variable(M5)\n",
        "C5 = random.random()\n",
        "C5= tf.cast(C5,tf.float64)\n",
        "L5out = tf.nn.sigmoid(tf.matmul(L4out,M5))+C5"
      ],
      "execution_count": 0,
      "outputs": []
    },
    {
      "cell_type": "code",
      "metadata": {
        "id": "-TWSd5ip3r0A",
        "colab_type": "code",
        "colab": {}
      },
      "source": [
        "\n",
        "M6 = np.random.rand(num_features,10)\n",
        "M6 = tf.Variable(M6)\n",
        "C6 = random.random()\n",
        "C6= tf.cast(C6,tf.float64)\n",
        "Finalout = tf.nn.softmax(tf.matmul(L5out,M6))+C5"
      ],
      "execution_count": 0,
      "outputs": []
    },
    {
      "cell_type": "markdown",
      "metadata": {
        "id": "szIXCmMyVaXQ",
        "colab_type": "text"
      },
      "source": [
        "# Activation Functions\n",
        "As u can see in the above code, there's this special line which says, **tf.nn.sigmoid**. That is called an Activation Function and it is what is going to tune our cost and give optimal weights and bias.\n",
        "\n",
        "---\n",
        "#### What is an Activation function?\n",
        "An Activation function is a **special ingredient**(formula) which is multiplied along  with the gradients which will help the the gradient to not fall in a local minimimum. Hence this will help us to get a global minimum and optimal weights(& bias).\n",
        "##### ( I know it is a very NAIVE definition )\n",
        "To understand how Activations work, we need to understand what is **Linearity** and **Non Linearity**.\n",
        "\n",
        "\n",
        "*   **Linearity** : simply means a hypothesis function following a linear(line) nature. \n",
        "*   **Non Linearity** : simply means in a hypothesis function there's a little curvature(curve) in the linearity(Line).\n",
        "\n",
        "\n",
        "---\n",
        "\n",
        "\n",
        "In Neural Networks, we make function of functions to produce optimal weights right. But that function of function which is nothing but Hypothesis is producing a line of degree **1**.(Which in turn in higher dimensions is called a HYPYER-PLANE).\n",
        "\n",
        " $$ m3(m2.(m1.(m0*.x+c0)+c1)+c2)+c3 $$\n",
        " The above equation produces the hyp. function with degree **1**.\n",
        "\n",
        "\n",
        "---\n",
        "\n",
        "\n",
        " Due to this, there's a large difference in Actual points to the predicted values. Because, the data in higher dimensions can become a little **curvy** and straight line fails to mimic the curvy nature.\n",
        "Below images illustrates this clearly.\n",
        "\n",
        "<img src=\"data:image/png;base64,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\" alt=\"\" /><img src=\"data:image/png;base64,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\" alt=\"\" />\n",
        "### Hence to make it non-Linear, Activation Functions are used.\n"
      ]
    },
    {
      "cell_type": "markdown",
      "metadata": {
        "id": "zf2CSX_MVG0L",
        "colab_type": "text"
      },
      "source": [
        "\n",
        "\n",
        "\n",
        "\n",
        "\n",
        "\n",
        "\n",
        "\n",
        "## Working and Types of Activation Functions :\n",
        "There are many types of Activation Functions, widely used and accepted ones are listed below,\n",
        "\n",
        "1.   Sigmoid Activation function\n",
        "2.   Tanh Activation function\n",
        "3.   RELU Activation function\n",
        "4.   Leaky RELU Activation function\n",
        "\n",
        "---\n",
        "### 1)<ins>Sigmoid Act. Function</ins>\n",
        "As we know the formula of sigmoid which is,\n",
        "$$\\frac{1}{1+e^{-Z}}$$\n",
        "Where, **Z = m.x + c**\n",
        "It returns us values between 0 to 1. This when multiplied to our gradient descent, that returns us values from 0 to 1. But the problem here is, this produces us gradient values in only single direction. And it is **0.5 centered**. <br>\n",
        "**What we mean by gradients pointing in same direction?**<br>\n",
        "While we're interested to reduce our weights and bias we subtract them with their derivatives right. In order to find the most minimum value in the derivative, sometimes, the derivative falls into the local minimum instead of global minimum. Below image illustrates this.\n",
        "<img src=\"data:image/png;base64,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\" alt=\"\" /><br>\n",
        "Now it is necessary for us to keep on changing the direction of the derivative instead of getting stuck in same direction and fall in local minimum. <br>\n",
        "**What we mean by 0.5 centered?**<br>\n",
        "It means that, the vaues are always positive and are between 0 to 1.<br>\n",
        "But we don't want our gradients to always go in single direction because it may get away from our global minimum value.<br>\n",
        "**And also there's a high chance of gradient vanishing**<br>\n",
        "which means, the gradient of the weight may result to \"0\". And there'll be no change in the value of weight. This happens when the value of sigmoid increases and hence there's a high chance of derivative to fall into \"0\".Below image illustrates this,\n",
        "<img src=\"data:image/png;base64,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\" alt=\"\" />\n",
        "\n",
        "$$ m = m - \\frac{de}{dm} $$\n",
        "$$If, \\frac{de}{dm}  = 0$$\n",
        "$$ m = m - 0 $$\n",
        "$$(i.e)$$\n",
        "$$ m $$\n",
        "So, Sigmoid Activation funcition is not very likely recommended function.<br>\n",
        "Due to two problems,\n",
        "\n",
        "\n",
        "1.   Gradient Vanishing\n",
        "2.   Gradients pointing in same direction<br>\n",
        "\n",
        "Lets check yet another Act. Function which may fix this.\n",
        "\n",
        "\n",
        "\n",
        "\n",
        "\n"
      ]
    },
    {
      "cell_type": "markdown",
      "metadata": {
        "id": "s9iHBDD7WFJw",
        "colab_type": "text"
      },
      "source": [
        "### 2)<ins>Tanh Act. Function</ins>\n",
        "The formula for Tanh is,\n",
        "$$tanh = \\frac{2}{1+e^{-2x}}-1$$\n",
        "This is yet another Activation function which solves the issue of Gradients pointing in same direction.<br>\n",
        "It is **0 centered**, which means, the values range from -1 to 1.<br>\n",
        "<img src=\"data:image/png;base64,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\" alt=\"\" /><br>\n",
        "But this does not solve the **Second issue which is Gradient vanishing**.\n",
        "So we need to checkout another Activation function."
      ]
    },
    {
      "cell_type": "markdown",
      "metadata": {
        "id": "mejQpjK7Wr1x",
        "colab_type": "text"
      },
      "source": [
        "### 3)<ins>RELU Act. Function </ins>\n",
        "This Activation function which determines max of 2 numbers as represented below,\n",
        "$$ max(0,X)$$\n",
        "where X is any scalar value.If,\n",
        "\n",
        "\n",
        "*   X > 0, then X is considered or else,\n",
        "*   0 is considered<br>\n",
        "\n",
        "**Any value beyond 0 or less than X are going to be 0.**\n",
        "So there's a slight issue with Gradient Vanishing here. <br>\n",
        "Other than that, the gradients will be constant in one direction like in below image.\n",
        "<img src=\"data:image/png;base64,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\" alt=\"\" />\n",
        "\n",
        "\n",
        "\n",
        "\n",
        "\n",
        "\n"
      ]
    },
    {
      "cell_type": "markdown",
      "metadata": {
        "id": "nKZe-8bCWu3_",
        "colab_type": "text"
      },
      "source": [
        "### 4)<ins>LEAKY RELU Act.Function</ins>\n",
        "This Act. function fixes the issue with almost all above mentioned functions.It is represented as,\n",
        "$$ LR = Max(\\epsilon x,x)$$\n",
        "Where, $\\epsilon$ = 0.000001 (very small value)<br>\n",
        "In this even when value of neuron tends to become \"-ve\", the gradients won't be vanished instead they multiply with $\\epsilon$ and produce a very small value.<br>\n",
        "You can see from below graph that the value of negative gradients tend to be very small.\n",
        "<img src=\"data:image/png;base64,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\" alt=\"\" />"
      ]
    },
    {
      "cell_type": "code",
      "metadata": {
        "id": "yuqVjD9ChxZA",
        "colab_type": "code",
        "colab": {}
      },
      "source": [
        "cost  = tf.reduce_mean((Finalout - Y_A )**2)"
      ],
      "execution_count": 0,
      "outputs": []
    },
    {
      "cell_type": "code",
      "metadata": {
        "id": "SM-rWx_hiDgk",
        "colab_type": "code",
        "colab": {}
      },
      "source": [
        "Optimizer = tf.train.GradientDescentOptimizer(learning_rate= 0.001)"
      ],
      "execution_count": 0,
      "outputs": []
    },
    {
      "cell_type": "code",
      "metadata": {
        "id": "t_JkhrH3idm6",
        "colab_type": "code",
        "colab": {}
      },
      "source": [
        "\n",
        "minimize_the_error = Optimizer.minimize(cost)"
      ],
      "execution_count": 0,
      "outputs": []
    },
    {
      "cell_type": "code",
      "metadata": {
        "id": "nrb1v_STi2iQ",
        "colab_type": "code",
        "colab": {}
      },
      "source": [
        "Init = tf.global_variables_initializer()\n",
        "S = tf.Session()\n",
        "S.run(Init)"
      ],
      "execution_count": 0,
      "outputs": []
    },
    {
      "cell_type": "code",
      "metadata": {
        "id": "aiuWZX_Ojlhw",
        "colab_type": "code",
        "colab": {}
      },
      "source": [
        "def onehot(y):\n",
        "  bus = [0]*10\n",
        "  bus[y] = 1\n",
        "  return bus"
      ],
      "execution_count": 0,
      "outputs": []
    },
    {
      "cell_type": "code",
      "metadata": {
        "id": "WMPNvc8ZkNw9",
        "colab_type": "code",
        "colab": {}
      },
      "source": [
        "Y_onehot= []\n",
        "for i in range(len(target)):\n",
        "  arrow =  onehot(target.iloc[i])\n",
        "  Y_onehot.append(arrow)\n",
        " \n",
        "  \n",
        "  "
      ],
      "execution_count": 0,
      "outputs": []
    },
    {
      "cell_type": "markdown",
      "metadata": {
        "id": "VHAoo65eXF75",
        "colab_type": "text"
      },
      "source": [
        "\n",
        "# Types of Gradient Descent\n",
        "There are mainly 3 types of gradient descents,\n",
        "\n",
        "\n",
        "1.   **Regular Gradient descent** : Here we take whole data for training.Hence it is very time consuming.\n",
        "2.   **Stochastic Gradient descent** : Here we consider **1** instance(row) at a time for the training.\n",
        "3.   **Batch Gradient descent** : Here we consider a set of instances(rows) at a time for the training.<br>\n",
        "\n",
        "In the below code,we have made a variable called **random_indices** which are given by another variable called **BATCH_SIZE** which produces random instances at a time. <br>\n",
        "Then we're using them inside our training loop, in every iteration, **Amount of number of instances given by BATCH_SIZE are produced and gone into the feed_dict and they produce random instances of both features and target**.\n",
        "<br><br>\n",
        "We can see that the loop iterates very fast.\n"
      ]
    },
    {
      "cell_type": "markdown",
      "metadata": {
        "id": "CpzwpyPF5Aw0",
        "colab_type": "text"
      },
      "source": [
        "## Using Batch's gradient Descent here"
      ]
    },
    {
      "cell_type": "code",
      "metadata": {
        "colab_type": "code",
        "id": "XGve1_5nCdlG",
        "outputId": "b08fa6d7-e612-47be-bf50-728a58140622",
        "colab": {
          "base_uri": "https://localhost:8080/",
          "height": 34
        }
      },
      "source": [
        "from IPython. display import clear_output\n",
        "error = []\n",
        "iterations =300\n",
        "BATCH_SIZE = 50\n",
        "for i in range(iterations):\n",
        "  random_indices = np.random.randint(0,len(data_train),size = BATCH_SIZE)\n",
        "  FD = {X_PH:np.array(pd.DataFrame(features).iloc[random_indices]),Y_A : np.array(pd.DataFrame(Y_onehot).iloc[random_indices]) }\n",
        "  S.run(minimize_the_error,feed_dict = FD)\n",
        "  error.append( S.run(cost,feed_dict = FD))\n",
        "  clear_output(True)\n",
        "  print(\"optimized cost:\",S.run(cost,feed_dict = FD))"
      ],
      "execution_count": 0,
      "outputs": [
        {
          "output_type": "stream",
          "text": [
            "optimized cost: 0.36033115531647564\n"
          ],
          "name": "stdout"
        }
      ]
    },
    {
      "cell_type": "code",
      "metadata": {
        "id": "314IFQ5Lo99o",
        "colab_type": "code",
        "outputId": "83f29afd-69c3-4236-ab53-9c27c3182b47",
        "colab": {
          "base_uri": "https://localhost:8080/",
          "height": 286
        }
      },
      "source": [
        "plt.plot(error)\n",
        "plt.show"
      ],
      "execution_count": 0,
      "outputs": [
        {
          "output_type": "execute_result",
          "data": {
            "text/plain": [
              "<function matplotlib.pyplot.show>"
            ]
          },
          "metadata": {
            "tags": []
          },
          "execution_count": 50
        },
        {
          "output_type": "display_data",
          "data": {
            "image/png": "[encoded data removed]",
            "text/plain": [
              "<Figure size 432x288 with 1 Axes>"
            ]
          },
          "metadata": {
            "tags": []
          }
        }
      ]
    },
    {
      "cell_type": "markdown",
      "metadata": {
        "id": "NSciMNrcSPsX",
        "colab_type": "text"
      },
      "source": [
        "## So we can conclude that activation functions plays a major role in reducing our error compared with part1"
      ]
    },
    {
      "cell_type": "code",
      "metadata": {
        "id": "kgyjKhfIDV0L",
        "colab_type": "code",
        "colab": {}
      },
      "source": [
        ""
      ],
      "execution_count": 0,
      "outputs": []
    }
  ]
}